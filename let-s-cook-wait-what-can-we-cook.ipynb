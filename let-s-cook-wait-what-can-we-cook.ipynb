{
 "cells": [
  {
   "cell_type": "code",
   "execution_count": 1,
   "metadata": {
    "_cell_guid": "b1076dfc-b9ad-4769-8c92-a6c4dae69d19",
    "_uuid": "8f2839f25d086af736a60e9eeb907d3b93b6e0e5"
   },
   "outputs": [
    {
     "name": "stdout",
     "output_type": "stream",
     "text": [
      "['train.json', 'test.json', 'sample_submission.csv']\n"
     ]
    }
   ],
   "source": [
    "# This Python 3 environment comes with many helpful analytics libraries installed\n",
    "# It is defined by the kaggle/python docker image: https://github.com/kaggle/docker-python\n",
    "# For example, here's several helpful packages to load in \n",
    "\n",
    "import numpy as np # linear algebra\n",
    "import pandas as pd # data processing, CSV file I/O (e.g. pd.read_csv)\n",
    "import matplotlib.pyplot as plt\n",
    "import seaborn as sns\n",
    "sns.set()\n",
    "\n",
    "from sklearn.feature_extraction.text import TfidfVectorizer\n",
    "from sklearn.multiclass import OneVsRestClassifier\n",
    "from sklearn.preprocessing import LabelEncoder\n",
    "import json\n",
    "from sklearn.svm import SVC\n",
    "from wordcloud import STOPWORDS, WordCloud, ImageColorGenerator\n",
    "import unidecode\n",
    "import xgboost\n",
    "\n",
    "import nltk\n",
    "\n",
    "lemmatizer = nltk.WordNetLemmatizer()\n",
    "\n",
    "import string\n",
    "\n",
    "stopwords = nltk.corpus.stopwords.words('english')\n",
    "ps = nltk.PorterStemmer()\n",
    "\n",
    "\n",
    "# Input data files are available in the \"../input/\" directory.\n",
    "# For example, running this (by clicking run or pressing Shift+Enter) will list the files in the input directory\n",
    "\n",
    "import os\n",
    "print(os.listdir(\"../input\"))\n",
    "\n",
    "# Any results you write to the current directory are saved as output."
   ]
  },
  {
   "cell_type": "code",
   "execution_count": 2,
   "metadata": {
    "_uuid": "ae998f4a61b57dd99853fcf2b14ac06aabfd4b00"
   },
   "outputs": [],
   "source": [
    "data_train = pd.read_json(\"../input/train.json\")\n",
    "data_test = pd.read_json(\"../input/test.json\")"
   ]
  },
  {
   "cell_type": "markdown",
   "metadata": {
    "_uuid": "e4ace0dc6f31ea341a2150d207af62d4737e4059"
   },
   "source": [
    "**Training Data**\n",
    "\n",
    "Training data contains Cuisine and Ingredients column. \n",
    "\n",
    "* Objective is to use this training data to train the model. Model learns from the ingredients to predict the cuisine. \n",
    "* This is a classification model building excercise. \n",
    "* There are 20 different cuisines to predict. \n",
    "* There are about 40,000 rows in the training data and 10,000 in test data. "
   ]
  },
  {
   "cell_type": "code",
   "execution_count": 3,
   "metadata": {
    "_uuid": "ce38f6cfeab8afde9de6f5fda66126086c685211"
   },
   "outputs": [
    {
     "data": {
      "text/html": [
       "<div>\n",
       "<style scoped>\n",
       "    .dataframe tbody tr th:only-of-type {\n",
       "        vertical-align: middle;\n",
       "    }\n",
       "\n",
       "    .dataframe tbody tr th {\n",
       "        vertical-align: top;\n",
       "    }\n",
       "\n",
       "    .dataframe thead th {\n",
       "        text-align: right;\n",
       "    }\n",
       "</style>\n",
       "<table border=\"1\" class=\"dataframe\">\n",
       "  <thead>\n",
       "    <tr style=\"text-align: right;\">\n",
       "      <th></th>\n",
       "      <th>cuisine</th>\n",
       "      <th>id</th>\n",
       "      <th>ingredients</th>\n",
       "    </tr>\n",
       "  </thead>\n",
       "  <tbody>\n",
       "    <tr>\n",
       "      <th>0</th>\n",
       "      <td>greek</td>\n",
       "      <td>10259</td>\n",
       "      <td>[romaine lettuce, black olives, grape tomatoes...</td>\n",
       "    </tr>\n",
       "    <tr>\n",
       "      <th>1</th>\n",
       "      <td>southern_us</td>\n",
       "      <td>25693</td>\n",
       "      <td>[plain flour, ground pepper, salt, tomatoes, g...</td>\n",
       "    </tr>\n",
       "    <tr>\n",
       "      <th>2</th>\n",
       "      <td>filipino</td>\n",
       "      <td>20130</td>\n",
       "      <td>[eggs, pepper, salt, mayonaise, cooking oil, g...</td>\n",
       "    </tr>\n",
       "    <tr>\n",
       "      <th>3</th>\n",
       "      <td>indian</td>\n",
       "      <td>22213</td>\n",
       "      <td>[water, vegetable oil, wheat, salt]</td>\n",
       "    </tr>\n",
       "    <tr>\n",
       "      <th>4</th>\n",
       "      <td>indian</td>\n",
       "      <td>13162</td>\n",
       "      <td>[black pepper, shallots, cornflour, cayenne pe...</td>\n",
       "    </tr>\n",
       "  </tbody>\n",
       "</table>\n",
       "</div>"
      ],
      "text/plain": [
       "       cuisine                        ...                                                                ingredients\n",
       "0        greek                        ...                          [romaine lettuce, black olives, grape tomatoes...\n",
       "1  southern_us                        ...                          [plain flour, ground pepper, salt, tomatoes, g...\n",
       "2     filipino                        ...                          [eggs, pepper, salt, mayonaise, cooking oil, g...\n",
       "3       indian                        ...                                        [water, vegetable oil, wheat, salt]\n",
       "4       indian                        ...                          [black pepper, shallots, cornflour, cayenne pe...\n",
       "\n",
       "[5 rows x 3 columns]"
      ]
     },
     "execution_count": 3,
     "metadata": {},
     "output_type": "execute_result"
    }
   ],
   "source": [
    "data_train.head()"
   ]
  },
  {
   "cell_type": "code",
   "execution_count": 4,
   "metadata": {
    "_uuid": "b336d32f99d34e8b6627702cab1f3879031d4a31"
   },
   "outputs": [
    {
     "name": "stdout",
     "output_type": "stream",
     "text": [
      "Number of rows in training data are 39774\n"
     ]
    }
   ],
   "source": [
    "print ('Number of rows in training data are',data_train.shape[0]) "
   ]
  },
  {
   "cell_type": "code",
   "execution_count": 5,
   "metadata": {
    "_uuid": "64dde1121ec0d74b9553e2725bb55ae14575be2d",
    "scrolled": true
   },
   "outputs": [
    {
     "name": "stdout",
     "output_type": "stream",
     "text": [
      "Number of unique cuisines in the training data are 20\n"
     ]
    }
   ],
   "source": [
    "print('Number of unique cuisines in the training data are',len(data_train.cuisine.unique()))"
   ]
  },
  {
   "cell_type": "markdown",
   "metadata": {
    "_uuid": "a160528d16f895f35554f8abb8826f114649d9a9"
   },
   "source": [
    "**Test Data**\n",
    "\n",
    "Test data has about 10,000 rows with only ingredients columns. "
   ]
  },
  {
   "cell_type": "code",
   "execution_count": 6,
   "metadata": {
    "_uuid": "600fe60ae277a47b260c4400498b26d5773def0d",
    "scrolled": true
   },
   "outputs": [
    {
     "data": {
      "text/html": [
       "<div>\n",
       "<style scoped>\n",
       "    .dataframe tbody tr th:only-of-type {\n",
       "        vertical-align: middle;\n",
       "    }\n",
       "\n",
       "    .dataframe tbody tr th {\n",
       "        vertical-align: top;\n",
       "    }\n",
       "\n",
       "    .dataframe thead th {\n",
       "        text-align: right;\n",
       "    }\n",
       "</style>\n",
       "<table border=\"1\" class=\"dataframe\">\n",
       "  <thead>\n",
       "    <tr style=\"text-align: right;\">\n",
       "      <th></th>\n",
       "      <th>id</th>\n",
       "      <th>ingredients</th>\n",
       "    </tr>\n",
       "  </thead>\n",
       "  <tbody>\n",
       "    <tr>\n",
       "      <th>0</th>\n",
       "      <td>18009</td>\n",
       "      <td>[baking powder, eggs, all-purpose flour, raisi...</td>\n",
       "    </tr>\n",
       "    <tr>\n",
       "      <th>1</th>\n",
       "      <td>28583</td>\n",
       "      <td>[sugar, egg yolks, corn starch, cream of tarta...</td>\n",
       "    </tr>\n",
       "    <tr>\n",
       "      <th>2</th>\n",
       "      <td>41580</td>\n",
       "      <td>[sausage links, fennel bulb, fronds, olive oil...</td>\n",
       "    </tr>\n",
       "    <tr>\n",
       "      <th>3</th>\n",
       "      <td>29752</td>\n",
       "      <td>[meat cuts, file powder, smoked sausage, okra,...</td>\n",
       "    </tr>\n",
       "    <tr>\n",
       "      <th>4</th>\n",
       "      <td>35687</td>\n",
       "      <td>[ground black pepper, salt, sausage casings, l...</td>\n",
       "    </tr>\n",
       "  </tbody>\n",
       "</table>\n",
       "</div>"
      ],
      "text/plain": [
       "      id                                        ingredients\n",
       "0  18009  [baking powder, eggs, all-purpose flour, raisi...\n",
       "1  28583  [sugar, egg yolks, corn starch, cream of tarta...\n",
       "2  41580  [sausage links, fennel bulb, fronds, olive oil...\n",
       "3  29752  [meat cuts, file powder, smoked sausage, okra,...\n",
       "4  35687  [ground black pepper, salt, sausage casings, l..."
      ]
     },
     "execution_count": 6,
     "metadata": {},
     "output_type": "execute_result"
    }
   ],
   "source": [
    "data_test.head()"
   ]
  },
  {
   "cell_type": "code",
   "execution_count": 7,
   "metadata": {
    "_uuid": "03ae9e3d3f952e76202ce58393f4ebfd26827308"
   },
   "outputs": [
    {
     "name": "stdout",
     "output_type": "stream",
     "text": [
      "Number of rows in training data are 9944\n"
     ]
    }
   ],
   "source": [
    "print ('Number of rows in training data are',data_test.shape[0])"
   ]
  },
  {
   "cell_type": "markdown",
   "metadata": {
    "_uuid": "1b403d0e16ae336da8e3ba704ebed6acb553145a"
   },
   "source": [
    "**Number of Recipes**\n",
    "\n",
    "Looking at the plot below we can notice that most number of recipes are Italian, followed by Mexian and Southern. Least number of recipies are Brazilian. "
   ]
  },
  {
   "cell_type": "code",
   "execution_count": 8,
   "metadata": {
    "_uuid": "671eae2aa4de59e21f26a7d8d938f99f5bdfac92"
   },
   "outputs": [
    {
     "data": {
      "text/plain": [
       "<matplotlib.axes._subplots.AxesSubplot at 0x7feb0ab84940>"
      ]
     },
     "execution_count": 8,
     "metadata": {},
     "output_type": "execute_result"
    },
    {
     "data": {
      "image/png": "[encoded data removed]",
      "text/plain": [
       "<Figure size 432x288 with 1 Axes>"
      ]
     },
     "metadata": {},
     "output_type": "display_data"
    }
   ],
   "source": [
    "data_train.cuisine.value_counts().plot(kind='bar')"
   ]
  },
  {
   "cell_type": "code",
   "execution_count": 9,
   "metadata": {
    "_uuid": "4a79a240eeb90de479fe434a2493204be459dd21"
   },
   "outputs": [],
   "source": [
    "y_train = data_train['cuisine'].apply(lambda x: x.lower())"
   ]
  },
  {
   "cell_type": "code",
   "execution_count": 10,
   "metadata": {
    "_uuid": "813a10e5bf515fbca9652681800f9bfc956a7e24"
   },
   "outputs": [],
   "source": [
    "def clean_text(text):\n",
    "    text = \" \".join([word.lower() for word in text])\n",
    "    text = \"\".join([ps.stem(word) for word in text])\n",
    "    return text"
   ]
  },
  {
   "cell_type": "code",
   "execution_count": 11,
   "metadata": {
    "_uuid": "bb8fe4880320c9b2e789a186899355592b2c1279"
   },
   "outputs": [],
   "source": [
    "X_train = data_train['ingredients'].apply(lambda x: clean_text(x))\n",
    "X_test = data_test['ingredients'].apply(lambda x: clean_text(x))"
   ]
  },
  {
   "cell_type": "code",
   "execution_count": 12,
   "metadata": {
    "_uuid": "3593cafdcc6dd399381406d059f757a0e43c9f85"
   },
   "outputs": [],
   "source": [
    "#X_train = data_train['ingredients'].apply(lambda x: ' '.join(lemmatizer.lemmatize(unidecode.unidecode(i)) for i in x).strip().lower())\n",
    "#X_test = data_test['ingredients'].apply(lambda x: ' '.join(lemmatizer.lemmatize(unidecode.unidecode(i)) for i in x).strip().lower())"
   ]
  },
  {
   "cell_type": "code",
   "execution_count": 13,
   "metadata": {
    "_uuid": "6c456d297e21c9102bd91fbdf4d7f66a597e69cc"
   },
   "outputs": [
    {
     "data": {
      "text/plain": [
       "0    romaine lettuce black olives grape tomatoes ga...\n",
       "1    plain flour ground pepper salt tomatoes ground...\n",
       "2    eggs pepper salt mayonaise cooking oil green c...\n",
       "3                       water vegetable oil wheat salt\n",
       "4    black pepper shallots cornflour cayenne pepper...\n",
       "Name: ingredients, dtype: object"
      ]
     },
     "execution_count": 13,
     "metadata": {},
     "output_type": "execute_result"
    }
   ],
   "source": [
    "X_train.head()"
   ]
  },
  {
   "cell_type": "code",
   "execution_count": 14,
   "metadata": {
    "_uuid": "2f66ef37337cc304945589560efe41e8229c79d6"
   },
   "outputs": [
    {
     "data": {
      "text/plain": [
       "0    baking powder eggs all-purpose flour raisins m...\n",
       "1    sugar egg yolks corn starch cream of tartar ba...\n",
       "2    sausage links fennel bulb fronds olive oil cub...\n",
       "3    meat cuts file powder smoked sausage okra shri...\n",
       "4    ground black pepper salt sausage casings leeks...\n",
       "Name: ingredients, dtype: object"
      ]
     },
     "execution_count": 14,
     "metadata": {},
     "output_type": "execute_result"
    }
   ],
   "source": [
    "X_test.head()"
   ]
  },
  {
   "cell_type": "code",
   "execution_count": 15,
   "metadata": {
    "_uuid": "dd2bd7baf472bf08a7593028e69270f5c252dd00"
   },
   "outputs": [],
   "source": [
    "# Encode Lables of Cusine\n",
    "labler = LabelEncoder()\n",
    "y_target = labler.fit_transform(y_train)"
   ]
  },
  {
   "cell_type": "code",
   "execution_count": 16,
   "metadata": {
    "_uuid": "2ae31cf84a289f22fcf619c5404f10257a1077f4"
   },
   "outputs": [],
   "source": [
    "# Vectorize Train and Test Data Columns\n",
    "vectorizer = TfidfVectorizer(binary=True)\n",
    "X_train_vec = vectorizer.fit_transform(X_train.values)\n",
    "X_test_vec = vectorizer.transform(X_test.values)"
   ]
  },
  {
   "cell_type": "code",
   "execution_count": 17,
   "metadata": {
    "_uuid": "ab25e7a24a5896be6e307f8cdfbd564548a3054c"
   },
   "outputs": [
    {
     "data": {
      "text/plain": [
       "OneVsRestClassifier(estimator=XGBClassifier(base_score=0.5, booster='gbtree', colsample_bylevel=1,\n",
       "       colsample_bytree=1, eta=0.05, gamma=0, learning_rate=0.1,\n",
       "       max_delta_step=0, max_depth=12, min_child_weight=1, missing=None,\n",
       "       n_estimators=100, n_jobs=1, nthread=None,\n",
       "       objective='binary:logistic', random_state=0, reg_alpha=0,\n",
       "       reg_lambda=1, scale_pos_weight=1, seed=None, silent=True,\n",
       "       subsample=0.7),\n",
       "          n_jobs=-1)"
      ]
     },
     "execution_count": 17,
     "metadata": {},
     "output_type": "execute_result"
    }
   ],
   "source": [
    "#XGBoost implementation\n",
    "model = xgboost.XGBClassifier(max_depth = 12, eta = 0.05, subsample = 0.7)\n",
    "clf = OneVsRestClassifier(model, n_jobs = -1)\n",
    "clf.fit(X_train_vec, y_target)"
   ]
  },
  {
   "cell_type": "code",
   "execution_count": 18,
   "metadata": {
    "_uuid": "4f06e93c10b0570a59bb0f10d975760b687352e8"
   },
   "outputs": [],
   "source": [
    "clf_pred = clf.predict(X_test_vec)"
   ]
  },
  {
   "cell_type": "code",
   "execution_count": 19,
   "metadata": {
    "_uuid": "bab214884a89bccbad80ea32b1573ff5a9ae6198"
   },
   "outputs": [],
   "source": [
    "y_test = labler.inverse_transform(clf_pred)\n",
    "test_id = data_test[\"id\"]\n",
    "submit_xg = pd.DataFrame({'id': test_id, 'cuisine': y_test}, columns=['id', 'cuisine'])\n",
    "submit_xg.to_csv('xgboost.csv', index=False)"
   ]
  },
  {
   "cell_type": "code",
   "execution_count": 20,
   "metadata": {
    "_uuid": "452e5d8d1e79acb9122267dcff8709a2b5cda4de"
   },
   "outputs": [],
   "source": []
  }
 ],
 "metadata": {
  "kernelspec": {
   "display_name": "Python 3",
   "language": "python",
   "name": "python3"
  },
  "language_info": {
   "codemirror_mode": {
    "name": "ipython",
    "version": 3
   },
   "file_extension": ".py",
   "mimetype": "text/x-python",
   "name": "python",
   "nbconvert_exporter": "python",
   "pygments_lexer": "ipython3",
   "version": "3.6.6"
  }
 },
 "nbformat": 4,
 "nbformat_minor": 1
}
